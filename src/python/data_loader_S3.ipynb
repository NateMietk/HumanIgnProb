{
 "cells": [
  {
   "cell_type": "code",
   "execution_count": 1,
   "metadata": {},
   "outputs": [],
   "source": [
    "import torch\n",
    "from torch.utils.data import Dataset, DataLoader\n",
    "import rasterio as rio\n",
    "from glob import glob\n",
    "import os, sys\n",
    "import itertools\n",
    "import numpy as np\n",
    "from matplotlib import pyplot as plt\n"
   ]
  },
  {
   "cell_type": "code",
   "execution_count": 2,
   "metadata": {},
   "outputs": [
    {
     "data": {
      "text/plain": [
       "{'Arson',\n",
       " 'Campfire',\n",
       " 'Children',\n",
       " 'DebrisBurning',\n",
       " 'EquipmentUse',\n",
       " 'Fireworks',\n",
       " 'Human',\n",
       " 'Lightning',\n",
       " 'Miscellaneous',\n",
       " 'Powerline',\n",
       " 'Railroad',\n",
       " 'Smoking',\n",
       " 'Structure'}"
      ]
     },
     "execution_count": 2,
     "metadata": {},
     "output_type": "execute_result"
    }
   ],
   "source": [
    "# get y variable names\n",
    "y_var_dir = '../../../data/y_tiles/'\n",
    "y_files = glob(y_var_dir + \"/*.tif\")\n",
    "y_vars = set([os.path.basename(f).split('_')[0] for f in y_files])\n",
    "y_vars"
   ]
  },
  {
   "cell_type": "code",
   "execution_count": 9,
   "metadata": {},
   "outputs": [
    {
     "data": {
      "text/plain": [
       "150"
      ]
     },
     "execution_count": 9,
     "metadata": {},
     "output_type": "execute_result"
    },
    {
     "data": {
      "image/png": "[encoded data removed]",
      "text/plain": [
       "<matplotlib.figure.Figure at 0x1ab12252fd0>"
      ]
     },
     "metadata": {},
     "output_type": "display_data"
    }
   ],
   "source": [
    "tiles = set([os.path.basename(f).split('_')[-1].split('.')[0] for f in y_files])\n",
    "tiles\n",
    "tilenum = [int(t.split('t')[-1]) for t in tiles]\n",
    "plt.plot(sorted(tilenum))\n",
    "min(tilenum), max(tilenum)\n",
    "max(list(range(1, 151)))"
   ]
  },
  {
   "cell_type": "code",
   "execution_count": 3,
   "metadata": {},
   "outputs": [
    {
     "data": {
      "text/plain": [
       "{'aet-95th', 'aet-mean'}"
      ]
     },
     "execution_count": 3,
     "metadata": {},
     "output_type": "execute_result"
    }
   ],
   "source": [
    "# get x variable names\n",
    "x_var_dir = '../../../data/x_tiles/'\n",
    "x_files = glob(x_var_dir + \"/*.tif\")\n",
    "x_vars = set([os.path.basename(f).split('_')[0] for f in x_files])\n",
    "x_vars"
   ]
  },
  {
   "cell_type": "code",
   "execution_count": 26,
   "metadata": {},
   "outputs": [],
   "source": [
    "class yDatasetSingleVar(Dataset):\n",
    "    \"\"\"Dataset class for ignition types (Y var)\"\"\"\n",
    "    \n",
    "    def __init__(self, data_dir, transform=None, ig_type='Arson'):\n",
    "        \"\"\" \n",
    "        Args:\n",
    "            data_dir(string): the folder containing the image files\n",
    "            transform (callable, optional): Optional transform to  be applied to image data\n",
    "            ig_types (iterable, optional): types of ignition rasters to include \n",
    "        \"\"\"\n",
    "        assert os.path.exists(data_dir)\n",
    "        \n",
    "        self.data_dir = data_dir\n",
    "        self.transform = transform\n",
    "        self.ig_types = ig_type # should have a default...\n",
    "        self.val_months = set([os.path.basename(f).split('_')[-2] for f in y_files if int(os.path.basename(f).split('_')[-2]) <=12])\n",
    "        self.tile_nums = set([os.path.basename(f).split('_')[-1].split('.tif')[0] for f in y_files])\n",
    "        self.files = glob(data_dir + \"/*{}*.tif\".format(ig_type))\n",
    "        self.month_tile = itertools.product(self.val_months, self.tile_nums)\n",
    "        self.fi = None\n",
    "        \n",
    "        ## could also set up a set of variable names if specifying it in the constructor proves difficult\n",
    "        #y_vars = set([os.path.basename(f).split('_')[0] for f in y_files])\n",
    "        \n",
    "    \n",
    "    def __getitem__(self, idx):\n",
    "        \n",
    "        \"\"\"\n",
    "            Files are organized as <ig_type>_<year>_<month>_t<tileNumber>.tif, e.g., Arson_1992_1_t1\n",
    "            A single dataset needs to be constructed for a given ignition type, year, month, and tile number\n",
    "        \"\"\"\n",
    "        \n",
    "        fi = self.files[idx] \n",
    "        print(fi)\n",
    "        valid_thresh = -100000\n",
    "        with rio.open(fi) as src:\n",
    "            img_arr = src.read(1)\n",
    "            img_arr[img_arr<0] = 0\n",
    "            \n",
    "            ## any thing matching this condition for X vars replace with mean of valid vals\n",
    "            img_arr[img_arr <= -2.4e+38] = img_arr[img_arr > valid_thresh].mean()\n",
    "        \n",
    "        print(img_arr.shape)\n",
    "        \n",
    "        if self.transform is not None:\n",
    "            return self.transform(torch.from_numpy(img_arr))   \n",
    "        else:\n",
    "            return torch.from_numpy(img_arr)\n",
    "        \n",
    "        \n",
    "    def __len__(self):\n",
    "        return len(self.files)"
   ]
  },
  {
   "cell_type": "code",
   "execution_count": 27,
   "metadata": {},
   "outputs": [],
   "source": [
    "test_single_var = yDatasetSingleVar(y_var_dir, ig_type='Campfire') # variable is Arson by default"
   ]
  },
  {
   "cell_type": "code",
   "execution_count": 28,
   "metadata": {},
   "outputs": [
    {
     "name": "stdout",
     "output_type": "stream",
     "text": [
      "Campfire: 43201\n",
      "Human: 43200\n",
      "Lightning: 43200\n",
      "Railroad: 43200\n",
      "Arson: 43200\n",
      "Miscellaneous: 43200\n",
      "Smoking: 43200\n",
      "Structure: 43200\n",
      "Powerline: 43200\n",
      "Children: 43203\n",
      "EquipmentUse: 43201\n",
      "DebrisBurning: 43200\n",
      "Fireworks: 43200\n"
     ]
    }
   ],
   "source": [
    "for var in y_vars:\n",
    "    test_dl = yDatasetSingleVar(y_var_dir, ig_type=var)\n",
    "    print('{}: {}'.format(var, len(test_dl)))"
   ]
  },
  {
   "cell_type": "code",
   "execution_count": 29,
   "metadata": {},
   "outputs": [
    {
     "name": "stdout",
     "output_type": "stream",
     "text": [
      "../../../data/y_tiles\\EquipmentUse_1992_10_t1.tif\n",
      "../../../data/y_tiles\\Children_1992_10_t1.tif\n",
      "../../../data/y_tiles\\Campfire_1992_10_t1.tif\n",
      "../../../data/y_tiles\\Arson_1992_10_t1.tif\n"
     ]
    }
   ],
   "source": [
    "## looks like most y-vars have 43200 files, but Children, Campfire, and Equipment have more.\n",
    "## try to find out the filenames which are not like the other variables!\n",
    "equipment = glob(y_var_dir + \"/{}*.tif\".format('Equipment'))\n",
    "children = glob(y_var_dir + \"/{}*.tif\".format('Children'))\n",
    "campfire = glob(y_var_dir + \"/{}*.tif\".format('Campfire'))\n",
    "base = glob(y_var_dir + \"/{}*.tif\".format('Arson'))\n",
    "\n",
    "print(equipment[0])\n",
    "print(children[0])\n",
    "print(campfire[0])\n",
    "print(base[0])"
   ]
  },
  {
   "cell_type": "code",
   "execution_count": 30,
   "metadata": {},
   "outputs": [],
   "source": [
    "# get just the year_month_tile.tif\n",
    "equip = ['_'.join(f.split('_')[-3:]) for f in equipment]\n",
    "child = ['_'.join(f.split('_')[-3:]) for f in children]\n",
    "camp = ['_'.join(f.split('_')[-3:]) for f in campfire]\n",
    "b = ['_'.join(f.split('_')[-3:]) for f in base]"
   ]
  },
  {
   "cell_type": "code",
   "execution_count": 31,
   "metadata": {},
   "outputs": [
    {
     "name": "stdout",
     "output_type": "stream",
     "text": [
      "equipment use difference\n",
      "['tiles\\\\EquipmentUse_2013_t82.tif']\n",
      "\n",
      "children difference\n",
      "['tiles\\\\Children_2008_t4.tif' 'tiles\\\\Children_2008_t8.tif'\n",
      " 'tiles\\\\Children_2013_t1.tif']\n",
      "\n",
      "campfire difference\n",
      "['tiles\\\\Campfire_2013_t87.tif']\n"
     ]
    }
   ],
   "source": [
    "print('equipment use difference')\n",
    "print(np.setdiff1d(equip, b))\n",
    "\n",
    "print('\\nchildren difference')\n",
    "print(np.setdiff1d(child, b))\n",
    "\n",
    "print('\\ncampfire difference')\n",
    "print(np.setdiff1d(camp, b))"
   ]
  },
  {
   "cell_type": "code",
   "execution_count": 32,
   "metadata": {},
   "outputs": [
    {
     "name": "stdout",
     "output_type": "stream",
     "text": [
      "Arson: 43200\n",
      "Campfire: 43201\n",
      "2\n"
     ]
    }
   ],
   "source": [
    "temp_list = []\n",
    "for ig_type in ['Arson', 'Campfire']:\n",
    "    files = glob(y_var_dir + \"/{}*.tif\".format(ig_type))\n",
    "    print('{}: {}'.format(ig_type, len(files)))\n",
    "    temp_list.append(files)\n",
    "    \n",
    "print(len(temp_list))"
   ]
  },
  {
   "cell_type": "code",
   "execution_count": 22,
   "metadata": {},
   "outputs": [],
   "source": [
    "class yDatasetMultiVar(Dataset):\n",
    "    \"\"\"Dataset class for ignition types (Y var)\"\"\"\n",
    "    \n",
    "    def __init__(self, data_dir, transform=None, ig_types=['Arson', 'Campfire']):\n",
    "        \"\"\" \n",
    "        Args:\n",
    "            data_dir(string): the folder containing the image files\n",
    "            transform (callable, optional): Optional transform to  be applied to image data\n",
    "            ig_types (iterable, optional): types of ignition rasters to include \n",
    "        \"\"\"\n",
    "        \n",
    "        # some sanity checks\n",
    "        assert os.path.exists(data_dir)\n",
    "        assert len(ig_types) > 1\n",
    "        val_ig_types = set([os.path.basename(f).split('_')[0] for f in glob(data_dir + '/*.tif')])\n",
    "        for v in val_ig_types:\n",
    "            assert v in list(val_ig_types)\n",
    "        \n",
    "        # initialize some attributes\n",
    "        self.data_dir = data_dir\n",
    "        self.transform = transform\n",
    "        self.ig_types = ig_types # should have a default...\n",
    "        self.val_months = set([os.path.basename(f).split('_')[-2] for f in y_files if int(os.path.basename(f).split('_')[-2]) <=12])\n",
    "        \n",
    "        # the filenaming is not consistent to get the years from the filename :(\n",
    "        #self.val_years = set([os.path.basename(f).split('_')[-3] for f in y_files if (len(os.path.basename(f).split('_')) > 3)])\n",
    "        self.val_years = list(range(1992,2016)) # 2015, since it is open-ended on the right\n",
    "        \n",
    "        self.tile_nums = set([os.path.basename(f).split('_')[-1].split('.tif')[0] for f in y_files])\n",
    "        \n",
    "        # get the files for ig_type[0]... need to assert that num_files for each ig_type is equal\n",
    "        self.files = glob(data_dir + \"/*{}*.tif\".format(ig_types[0]))\n",
    "        temp_list = []\n",
    "        for ig_type in ig_types:\n",
    "            files = glob(data_dir + \"/{}*.tif\".format(ig_type))\n",
    "            temp_list.append(files)\n",
    "        \n",
    "        # this should ensure that the file numbers are equal\n",
    "        for flist in temp_list[1:]:\n",
    "            assert len(temp_list[0]) == len(flist)        \n",
    "        \n",
    "        # create an iterable for the __getitem__ method\n",
    "        self.var_year_month_tile = list(itertools.product(self.ig_types, self.val_years, self.val_months, self.tile_nums))\n",
    "        self.year_month_tile = list(itertools.product(self.val_years, self.val_months, self.tile_nums))\n",
    "        \n",
    "    \n",
    "    def __getitem__(self, idx):\n",
    "        \n",
    "        \"\"\"\n",
    "            Files are organized as <ig_type>_<year>_<month>_t<tileNumber>.tif, e.g., Arson_1992_1_t1\n",
    "            A single dataset needs to be constructed for a given ignition type, year, month, and tile number\n",
    "        \"\"\"\n",
    "        \n",
    "        #var, year, month, tile = self.var_year_month_tile[idx]\n",
    "        year, month, tile = self.year_month_tile[idx]\n",
    "        files = [os.path.join(self.data_dir, '{}_{}_{}_{}.tif'.format(var, year, month, tile)) for var in self.ig_types]\n",
    "        arrs = []\n",
    "        \n",
    "        print(files)\n",
    "        \n",
    "        valid_thresh = -100000\n",
    "        for fi in files:\n",
    "            with rio.open(fi) as src:\n",
    "                arr = src.read(1)\n",
    "                \n",
    "                ## any thing matching this condition for X vars replace with mean of valid vals\n",
    "                # valid Y nodata should be replaced with zeros\n",
    "                #arr[arr <= -2.4e+38] = arr[arr > valid_thresh].mean()\n",
    "                arr[arr <= -2.4e+38] = 0\n",
    "            \n",
    "            arrs.append(arr)\n",
    "        img_arr = np.array(arrs)\n",
    "        \n",
    "        if self.transform is not None:\n",
    "            return self.transform(torch.from_numpy(img_arr))   \n",
    "        else:\n",
    "            return torch.from_numpy(img_arr) # return X, Y, Mask (Mask uses LandMask in X-var folder)\n",
    "        \n",
    "        \n",
    "    def __len__(self):\n",
    "        return len(self.files)"
   ]
  },
  {
   "cell_type": "code",
   "execution_count": 23,
   "metadata": {},
   "outputs": [
    {
     "name": "stdout",
     "output_type": "stream",
     "text": [
      "43200\n",
      "43200\n"
     ]
    }
   ],
   "source": [
    "# Campfire: 43201\n",
    "# Children: 43203\n",
    "# Railroad: 43200\n",
    "# EquipmentUse: 43201\n",
    "# Powerline: 43200\n",
    "# Smoking: 43200\n",
    "# Fireworks: 43200\n",
    "# Human: 43200\n",
    "# Miscellaneous: 43200\n",
    "# Structure: 43200\n",
    "# Lightning: 43200\n",
    "# DebrisBurning: 43200\n",
    "# Arson: 43200\n",
    "\n",
    "test_multi_var = yDatasetMultiVar(y_var_dir, ig_types=['Arson', 'Railroad', 'Powerline']) # variable is Arson by default\n"
   ]
  },
  {
   "cell_type": "code",
   "execution_count": 24,
   "metadata": {},
   "outputs": [
    {
     "name": "stdout",
     "output_type": "stream",
     "text": [
      "['../../../data/y_tiles/Arson_1992_1_t88.tif', '../../../data/y_tiles/Railroad_1992_1_t88.tif', '../../../data/y_tiles/Powerline_1992_1_t88.tif']\n"
     ]
    },
    {
     "name": "stderr",
     "output_type": "stream",
     "text": [
      "C:\\software\\Anaconda3\\envs\\eapy_gbdx\\lib\\site-packages\\ipykernel\\__main__.py:69: RuntimeWarning: Mean of empty slice.\n",
      "C:\\software\\Anaconda3\\envs\\eapy_gbdx\\lib\\site-packages\\numpy\\core\\_methods.py:80: RuntimeWarning: invalid value encountered in true_divide\n",
      "  ret = ret.dtype.type(ret / rcount)\n"
     ]
    },
    {
     "data": {
      "text/plain": [
       "torch.Size([3, 448, 448])"
      ]
     },
     "execution_count": 24,
     "metadata": {},
     "output_type": "execute_result"
    }
   ],
   "source": [
    "test_multi_var[0].shape"
   ]
  },
  {
   "cell_type": "code",
   "execution_count": 49,
   "metadata": {},
   "outputs": [],
   "source": [
    "class xymDatasetMultiVar(Dataset):\n",
    "    \"\"\"Dataset class for ignition types (Y var)\"\"\"\n",
    "    \n",
    "    def __init__(self, y_data_dir, x_data_dir, land_mask_dir, y_transform=None, x_transform=None, ig_types=['Arson', 'Campfire'], x_var=['aet-95th']):\n",
    "        \"\"\" \n",
    "        Args:\n",
    "            data_dir(string): the folder containing the image files\n",
    "            transform (callable, optional): Optional transform to  be applied to image data\n",
    "            ig_types (iterable, optional): types of ignition rasters to include\n",
    "            x_var (iterable, optional): list of predictor variable names\n",
    "            land_mask (string, optional): defines whether or not to return land mask\n",
    "        \"\"\"\n",
    "        \n",
    "        # some sanity checks\n",
    "        assert os.path.exists(y_data_dir)\n",
    "        assert os.path.exists(x_data_dir)\n",
    "        assert os.path.exists(land_mask_dir)\n",
    "        assert len(ig_types) > 1\n",
    "        assert len(x_var) > 1\n",
    "        \n",
    "        val_ig_types = set([os.path.basename(f).split('_')[0] for f in glob(y_data_dir + '/*.tif')])\n",
    "        for v in ig_types:\n",
    "            assert v in list(val_ig_types)\n",
    "            \n",
    "        val_x_var = set([os.path.basename(f).split('_')[0] for f in glob(x_data_dir + '/*.tif')])\n",
    "        for v in x_var:\n",
    "            assert v in list(val_x_var)\n",
    "        \n",
    "        # initialize some attributes\n",
    "        self.y_data_dir = y_data_dir\n",
    "        self.x_data_dir = x_data_dir\n",
    "        self.land_mask_dir = land_mask_dir\n",
    "        \n",
    "        self.x_transform = x_transform\n",
    "        self.y_transform = y_transform\n",
    "        self.ig_types = ig_types # should have a default...\n",
    "        self.x_var = x_var\n",
    "        self.val_months = set([os.path.basename(f).split('_')[-2] for f in y_files if int(os.path.basename(f).split('_')[-2]) <=12])\n",
    "        \n",
    "        # the filenaming is not consistent to get the years from the filename :(\n",
    "        #self.val_years = set([os.path.basename(f).split('_')[-3] for f in y_files if (len(os.path.basename(f).split('_')) > 3)])\n",
    "        self.val_years = list(range(1992,2016)) # 2015, since it is open-ended on the right\n",
    "        \n",
    "        ## y variable assertion\n",
    "        # get the files for ig_type[0]... need to assert that num_files for each ig_type is equal\n",
    "        self.files = glob(y_data_dir + \"/*{}*.tif\".format(ig_types[0]))\n",
    "        temp_list = []\n",
    "        for ig_type in ig_types:\n",
    "            files = glob(y_data_dir + \"/{}*.tif\".format(ig_type))\n",
    "            temp_list.append(files)\n",
    "        \n",
    "        # this should ensure that the file numbers are equal\n",
    "        for flist in temp_list[1:]:\n",
    "            assert len(temp_list[0]) == len(flist)       \n",
    "            \n",
    "            \n",
    "        ## x variable assertion\n",
    "        \n",
    "        # get the tile numbers\n",
    "        self.tile_nums = set([os.path.basename(f).split('_')[-1].split('.tif')[0] for f in files])\n",
    "        \n",
    "        # create an iterable for the __getitem__ method\n",
    "        self.year_month_tile = list(itertools.product(self.val_years, self.val_months, self.tile_nums))\n",
    "        \n",
    "    \n",
    "    def __getitem__(self, idx):\n",
    "        \n",
    "        \"\"\"\n",
    "            Files are organized as <var_type>_<year>_<month>_t<tileNumber>.tif, e.g., Arson_1992_1_t1\n",
    "            A single dataset needs to be constructed for a given ignition type, year, month, and tile number\n",
    "        \"\"\"\n",
    "        \n",
    "        #var, year, month, tile = self.var_year_month_tile[idx]\n",
    "        year, month, tile = self.year_month_tile[idx]\n",
    "        y_files = [os.path.join(self.y_data_dir, '{}_{}_{}_{}.tif'.format(var, year, month, tile)) for var in self.ig_types]\n",
    "        x_files = [os.path.join(self.x_data_dir, '{}_{}_{}_{}.tif'.format(var, year, month, tile)) for var in self.x_var]\n",
    "        land_mask_file = os.path.join(self.x_data_dir, '{}_{}_{}_{}.tif'.format('land-mask', year, month, tile))\n",
    "        \n",
    "        # load y_files\n",
    "        arrs = []\n",
    "        valid_thresh = -100000\n",
    "        for fi in y_files:\n",
    "            with rio.open(fi) as src:\n",
    "                arr = src.read(1)\n",
    "                \n",
    "                ## any thing matching this condition for X vars replace with mean of valid vals\n",
    "                # valid Y nodata should be replaced with zeros\n",
    "                #arr[arr <= -2.4e+38] = arr[arr > valid_thresh].mean()\n",
    "                arr[arr <= -2.4e+38] = 0\n",
    "            \n",
    "            arrs.append(arr)\n",
    "        y_arr = np.array(arrs)\n",
    "        \n",
    "        # load x_files\n",
    "        arrs = []\n",
    "        valid_thresh = -100000\n",
    "        for fi in x_files:\n",
    "            with rio.open(fi) as src:\n",
    "                arr = src.read(1)\n",
    "                \n",
    "                ## any thing matching this condition for X vars replace with mean of valid vals\n",
    "                # valid Y nodata should be replaced with zeros\n",
    "                #arr[arr <= -2.4e+38] = arr[arr > valid_thresh].mean()\n",
    "                arr[arr <= -2.4e+38] = 0\n",
    "            \n",
    "            arrs.append(arr)\n",
    "        x_arr = np.array(arrs)\n",
    "        \n",
    "        # load land_mask\n",
    "        valid_thresh = -100000\n",
    "        with rio.open(fi) as src:\n",
    "            land_mask_arr = src.read()\n",
    "\n",
    "            ## any thing matching this condition for X vars replace with mean of valid vals\n",
    "            # valid Y nodata should be replaced with zeros\n",
    "            #arr[arr <= -2.4e+38] = arr[arr > valid_thresh].mean()\n",
    "            arr[arr <= -2.4e+38] = 0\n",
    "\n",
    "        \n",
    "        \n",
    "        if (self.y_transform is not None) and (self.x_transform is not None):\n",
    "            return (self.y_transform(torch.from_numpy(y_arr)), \n",
    "                    self.x_transform(torch.from_numpy(x_arr)), \n",
    "                    torch.from_numpy(land_mask_arr))   \n",
    "        else:\n",
    "            return (torch.from_numpy(y_arr), torch.from_numpy(x_arr), torch.from_numpy(land_mask_arr)) # return X, Y, Mask (Mask uses LandMask in X-var folder)\n",
    "        \n",
    "        \n",
    "    def __len__(self):\n",
    "        return len(self.files)"
   ]
  },
  {
   "cell_type": "code",
   "execution_count": 50,
   "metadata": {},
   "outputs": [],
   "source": [
    "y_var_dir = '../../../data/y_tiles/'\n",
    "x_var_dir = '../../../data/x_tiles/'\n",
    "land_mask_dir = '../../../data/land_mask/'\n",
    "test_xym = xymDatasetMultiVar(y_var_dir, x_var_dir, land_mask_dir, y_transform=None, x_transform=None, ig_types=['Arson', 'Railroad', 'Powerline'], x_var=['aet-95th', 'aet-mean'])\n",
    "        "
   ]
  },
  {
   "cell_type": "code",
   "execution_count": 51,
   "metadata": {},
   "outputs": [],
   "source": [
    "y, x, m = test_xym[0]"
   ]
  },
  {
   "cell_type": "code",
   "execution_count": 52,
   "metadata": {},
   "outputs": [
    {
     "data": {
      "text/plain": [
       "(torch.Size([3, 448, 448]),\n",
       " torch.Size([2, 448, 448]),\n",
       " torch.Size([1, 448, 448]))"
      ]
     },
     "execution_count": 52,
     "metadata": {},
     "output_type": "execute_result"
    }
   ],
   "source": [
    "y.shape, x.shape, m.shape"
   ]
  },
  {
   "cell_type": "code",
   "execution_count": 55,
   "metadata": {},
   "outputs": [
    {
     "data": {
      "text/plain": [
       "<matplotlib.image.AxesImage at 0x1becebd1ac8>"
      ]
     },
     "execution_count": 55,
     "metadata": {},
     "output_type": "execute_result"
    },
    {
     "data": {
      "image/png": "[encoded data removed]",
      "text/plain": [
       "<matplotlib.figure.Figure at 0x1bec0392be0>"
      ]
     },
     "metadata": {},
     "output_type": "display_data"
    }
   ],
   "source": [
    "from matplotlib import pyplot as plt\n",
    "\n",
    "plt.imshow(m[0])"
   ]
  },
  {
   "cell_type": "markdown",
   "metadata": {},
   "source": [
    "## try to get the data directly from S3"
   ]
  },
  {
   "cell_type": "code",
   "execution_count": 4,
   "metadata": {},
   "outputs": [],
   "source": [
    "class xymDatasetMultiVar_S3(Dataset):\n",
    "    \"\"\"Dataset class for ignition types (Y var)\"\"\"\n",
    "    \n",
    "    def __init__(self, y_data_dir, x_data_dir, land_mask_dir, y_transform=None, x_transform=None, ig_types=['Arson', 'Campfire'], x_var=['aet-95th']):\n",
    "        \"\"\" \n",
    "        Args:\n",
    "            data_dir(string): the folder containing the image files\n",
    "            transform (callable, optional): Optional transform to  be applied to image data\n",
    "            ig_types (iterable, optional): types of ignition rasters to include\n",
    "            x_var (iterable, optional): list of predictor variable names\n",
    "            land_mask (string, optional): defines whether or not to return land mask\n",
    "        \"\"\"\n",
    "        \n",
    "        # some sanity checks... equivalent on S3?\n",
    "        #assert os.path.exists(y_data_dir)\n",
    "        #assert os.path.exists(x_data_dir)\n",
    "        #assert os.path.exists(land_mask_dir)\n",
    "        assert len(ig_types) > 1\n",
    "        assert len(x_var) > 1\n",
    "        \n",
    "        # can't to these in S3 either... need a dictionary maybe?\n",
    "        #val_ig_types = set([os.path.basename(f).split('_')[0] for f in glob(y_data_dir + '/*.tif')])\n",
    "        #for v in ig_types:\n",
    "        #    assert v in list(val_ig_types)\n",
    "            \n",
    "        #val_x_var = set([os.path.basename(f).split('_')[0] for f in glob(x_data_dir + '/*.tif')])\n",
    "        #for v in x_var:\n",
    "        #    assert v in list(val_x_var)\n",
    "        \n",
    "        # initialize some attributes\n",
    "        self.y_data_dir = y_data_dir\n",
    "        self.x_data_dir = x_data_dir\n",
    "        self.land_mask_dir = land_mask_dir\n",
    "        \n",
    "        self.x_transform = x_transform\n",
    "        self.y_transform = y_transform\n",
    "        self.ig_types = ig_types \n",
    "        self.x_var = x_var\n",
    "        #self.val_months = set([os.path.basename(f).split('_')[-2] for f in y_files if int(os.path.basename(f).split('_')[-2]) <=12])\n",
    "        self.val_months = [str(i+1) for i in range(12)]\n",
    "        \n",
    "        # the filenaming is not consistent to get the years from the filename :(\n",
    "        self.val_years = list(range(1992,2016)) # 2015, since it is open-ended on the right\n",
    "        \n",
    "        ## y variable assertion... can't do in S3\n",
    "        # get the files for ig_type[0]... need to assert that num_files for each ig_type is equal\n",
    "        #self.files = glob(y_data_dir + \"/*{}*.tif\".format(ig_types[0]))\n",
    "        #temp_list = []\n",
    "        #for ig_type in ig_types:\n",
    "        #    files = glob(y_data_dir + \"/{}*.tif\".format(ig_type))\n",
    "        #    temp_list.append(files)\n",
    "        \n",
    "        # this should ensure that the file numbers are equal\n",
    "        #for flist in temp_list[1:]:\n",
    "        #    assert len(temp_list[0]) == len(flist)       \n",
    "            \n",
    "            \n",
    "        ## x variable assertion...same, can't do in S3\n",
    "        \n",
    "        # get the tile numbers\n",
    "        self.tile_nums = list(range(1, 151)) # min is 1, max is 150 \n",
    "        \n",
    "        # create an iterable for the __getitem__ method\n",
    "        self.year_month_tile = list(itertools.product(self.val_years, self.val_months, self.tile_nums))\n",
    "        \n",
    "    \n",
    "    def __getitem__(self, idx):\n",
    "        \n",
    "        \"\"\"\n",
    "            Files are organized as <var_type>_<year>_<month>_t<tileNumber>.tif, e.g., Arson_1992_1_t1\n",
    "            A single dataset needs to be constructed for a given ignition type, year, month, and tile number\n",
    "        \"\"\"\n",
    "        \n",
    "        #var, year, month, tile = self.var_year_month_tile[idx]\n",
    "        year, month, tile = self.year_month_tile[idx]\n",
    "        y_files = [self.y_data_dir + '/{}_{}_{}_t{}.tif'.format(var, year, month, tile) for var in self.ig_types]\n",
    "        x_files = [self.x_data_dir + '/{}_{}_{}_t{}.tif'.format(var, year, month, tile) for var in self.x_var]\n",
    "        land_mask_file = self.x_data_dir +  '/{}_{}_{}_t{}.tif'.format('land-mask', year, month, tile)\n",
    "        \n",
    "        ## some additional considerations for climate variables which contain mean and 95th percentile\n",
    "        #clim_mean_files = [self.x_data_dir + '/{}_{}_mean_{}_{}.tif'.format(var, year, month, tile) for var in self.x_var]\n",
    "        #clim_95_files = [self.x_data_dir + '/{}_{}_95th_{}_{}.tif'.format(var, year, month, tile) for var in self.x_var]\n",
    "        \n",
    "        print(y_files)\n",
    "        # load y_files\n",
    "        arrs = []\n",
    "        valid_thresh = -100000\n",
    "        for fi in y_files:\n",
    "            with rio.open(fi) as src:\n",
    "                arr = src.read(1)\n",
    "                \n",
    "                ## any thing matching this condition for X vars replace with mean of valid vals\n",
    "                # valid Y nodata should be replaced with zeros\n",
    "                #arr[arr <= -2.4e+38] = arr[arr > valid_thresh].mean()\n",
    "                arr[arr <= -2.4e+38] = 0\n",
    "            \n",
    "            arrs.append(arr)\n",
    "        y_arr = np.array(arrs)\n",
    "        \n",
    "        # load x_files\n",
    "        arrs = []\n",
    "        valid_thresh = -100000\n",
    "        for fi in x_files:\n",
    "            with rio.open(fi) as src:\n",
    "                arr = src.read(1)\n",
    "                \n",
    "                ## any thing matching this condition for X vars replace with mean of valid vals\n",
    "                # valid Y nodata should be replaced with zeros\n",
    "                #arr[arr <= -2.4e+38] = arr[arr > valid_thresh].mean()\n",
    "                arr[arr <= -2.4e+38] = 0\n",
    "            \n",
    "            arrs.append(arr)\n",
    "        x_arr = np.array(arrs)\n",
    "        \n",
    "        # load land_mask\n",
    "        valid_thresh = -100000\n",
    "        with rio.open(fi) as src:\n",
    "            land_mask_arr = src.read()\n",
    "\n",
    "            ## any thing matching this condition for X vars replace with mean of valid vals\n",
    "            # valid Y nodata should be replaced with zeros\n",
    "            #arr[arr <= -2.4e+38] = arr[arr > valid_thresh].mean()\n",
    "            arr[arr <= -2.4e+38] = 0\n",
    "\n",
    "        \n",
    "        \n",
    "        if (self.y_transform is not None) and (self.x_transform is not None):\n",
    "            return (self.y_transform(torch.from_numpy(y_arr)), \n",
    "                    self.x_transform(torch.from_numpy(x_arr)), \n",
    "                    torch.from_numpy(land_mask_arr))   \n",
    "        else:\n",
    "            return (torch.from_numpy(y_arr), torch.from_numpy(x_arr), torch.from_numpy(land_mask_arr)) # return X, Y, Mask (Mask uses LandMask in X-var folder)\n",
    "        \n",
    "        \n",
    "    def __len__(self):\n",
    "        return len(self.files)"
   ]
  },
  {
   "cell_type": "code",
   "execution_count": 5,
   "metadata": {},
   "outputs": [],
   "source": [
    "s3_y = 's3://earthlab-modeling-human-ignitions/tiles/y_var'\n",
    "s3_x = 's3://earthlab-modeling-human-ignitions/tiles/x_var'\n",
    "s3_lm = 's3://earthlab-modeling-human-ignitions/tiles/x_var'\n",
    "test_xym_s3 = xymDatasetMultiVar_S3(s3_y, s3_x, s3_lm, y_transform=None, x_transform=None, ig_types=['Arson', 'Railroad', 'Powerline'], x_var=['elevation', 'aspect'])"
   ]
  },
  {
   "cell_type": "code",
   "execution_count": 8,
   "metadata": {},
   "outputs": [
    {
     "name": "stdout",
     "output_type": "stream",
     "text": [
      "['s3://earthlab-modeling-human-ignitions/tiles/y_var/Arson_1992_1_t2.tif', 's3://earthlab-modeling-human-ignitions/tiles/y_var/Railroad_1992_1_t2.tif', 's3://earthlab-modeling-human-ignitions/tiles/y_var/Powerline_1992_1_t2.tif']\n"
     ]
    }
   ],
   "source": [
    "y3, x3, lm3 = test_xym_s3[1]"
   ]
  },
  {
   "cell_type": "code",
   "execution_count": 26,
   "metadata": {},
   "outputs": [
    {
     "data": {
      "text/plain": [
       "True"
      ]
     },
     "execution_count": 26,
     "metadata": {},
     "output_type": "execute_result"
    }
   ],
   "source": [
    "-339999995214436424907732413799364296704. < -2.4e+38"
   ]
  },
  {
   "cell_type": "code",
   "execution_count": 9,
   "metadata": {},
   "outputs": [
    {
     "data": {
      "text/plain": [
       "torch.Size([3, 320, 448])"
      ]
     },
     "execution_count": 9,
     "metadata": {},
     "output_type": "execute_result"
    }
   ],
   "source": [
    "y3.shape"
   ]
  },
  {
   "cell_type": "code",
   "execution_count": 10,
   "metadata": {},
   "outputs": [
    {
     "data": {
      "text/plain": [
       "torch.Size([2, 320, 448])"
      ]
     },
     "execution_count": 10,
     "metadata": {},
     "output_type": "execute_result"
    }
   ],
   "source": [
    "x3.shape"
   ]
  },
  {
   "cell_type": "code",
   "execution_count": 11,
   "metadata": {},
   "outputs": [
    {
     "data": {
      "text/plain": [
       "torch.Size([1, 320, 448])"
      ]
     },
     "execution_count": 11,
     "metadata": {},
     "output_type": "execute_result"
    }
   ],
   "source": [
    "lm3.shape"
   ]
  },
  {
   "cell_type": "code",
   "execution_count": 14,
   "metadata": {},
   "outputs": [
    {
     "data": {
      "text/plain": [
       "1550608296.3141701"
      ]
     },
     "execution_count": 14,
     "metadata": {},
     "output_type": "execute_result"
    }
   ],
   "source": [
    "from time import time\n",
    "time()"
   ]
  },
  {
   "cell_type": "code",
   "execution_count": 15,
   "metadata": {},
   "outputs": [
    {
     "name": "stdout",
     "output_type": "stream",
     "text": [
      "['s3://earthlab-modeling-human-ignitions/tiles/y_var/Arson_1992_1_t2.tif', 's3://earthlab-modeling-human-ignitions/tiles/y_var/Railroad_1992_1_t2.tif', 's3://earthlab-modeling-human-ignitions/tiles/y_var/Powerline_1992_1_t2.tif']\n",
      "time is 6.511555194854736 seconds\n"
     ]
    }
   ],
   "source": [
    "t0 = time()\n",
    "y3, x3, lm3 = test_xym_s3[1]\n",
    "t1 = time()\n",
    "\n",
    "print('time is {} seconds'.format(t1-t0))"
   ]
  },
  {
   "cell_type": "code",
   "execution_count": 18,
   "metadata": {},
   "outputs": [
    {
     "name": "stdout",
     "output_type": "stream",
     "text": [
      "['s3://earthlab-modeling-human-ignitions/tiles/y_var/Arson_1992_1_t1.tif', 's3://earthlab-modeling-human-ignitions/tiles/y_var/Railroad_1992_1_t1.tif', 's3://earthlab-modeling-human-ignitions/tiles/y_var/Powerline_1992_1_t1.tif']\n",
      "1: time is 6.56514573097229 seconds\n",
      "['s3://earthlab-modeling-human-ignitions/tiles/y_var/Arson_1992_1_t2.tif', 's3://earthlab-modeling-human-ignitions/tiles/y_var/Railroad_1992_1_t2.tif', 's3://earthlab-modeling-human-ignitions/tiles/y_var/Powerline_1992_1_t2.tif']\n",
      "2: time is 6.536616563796997 seconds\n",
      "['s3://earthlab-modeling-human-ignitions/tiles/y_var/Arson_1992_1_t3.tif', 's3://earthlab-modeling-human-ignitions/tiles/y_var/Railroad_1992_1_t3.tif', 's3://earthlab-modeling-human-ignitions/tiles/y_var/Powerline_1992_1_t3.tif']\n",
      "3: time is 6.5851006507873535 seconds\n",
      "['s3://earthlab-modeling-human-ignitions/tiles/y_var/Arson_1992_1_t4.tif', 's3://earthlab-modeling-human-ignitions/tiles/y_var/Railroad_1992_1_t4.tif', 's3://earthlab-modeling-human-ignitions/tiles/y_var/Powerline_1992_1_t4.tif']\n",
      "4: time is 6.66926383972168 seconds\n",
      "['s3://earthlab-modeling-human-ignitions/tiles/y_var/Arson_1992_1_t5.tif', 's3://earthlab-modeling-human-ignitions/tiles/y_var/Railroad_1992_1_t5.tif', 's3://earthlab-modeling-human-ignitions/tiles/y_var/Powerline_1992_1_t5.tif']\n",
      "5: time is 6.694717645645142 seconds\n",
      "['s3://earthlab-modeling-human-ignitions/tiles/y_var/Arson_1992_1_t6.tif', 's3://earthlab-modeling-human-ignitions/tiles/y_var/Railroad_1992_1_t6.tif', 's3://earthlab-modeling-human-ignitions/tiles/y_var/Powerline_1992_1_t6.tif']\n",
      "6: time is 6.540302038192749 seconds\n",
      "['s3://earthlab-modeling-human-ignitions/tiles/y_var/Arson_1992_1_t7.tif', 's3://earthlab-modeling-human-ignitions/tiles/y_var/Railroad_1992_1_t7.tif', 's3://earthlab-modeling-human-ignitions/tiles/y_var/Powerline_1992_1_t7.tif']\n",
      "7: time is 6.5857439041137695 seconds\n",
      "['s3://earthlab-modeling-human-ignitions/tiles/y_var/Arson_1992_1_t8.tif', 's3://earthlab-modeling-human-ignitions/tiles/y_var/Railroad_1992_1_t8.tif', 's3://earthlab-modeling-human-ignitions/tiles/y_var/Powerline_1992_1_t8.tif']\n",
      "8: time is 6.582469701766968 seconds\n",
      "['s3://earthlab-modeling-human-ignitions/tiles/y_var/Arson_1992_1_t9.tif', 's3://earthlab-modeling-human-ignitions/tiles/y_var/Railroad_1992_1_t9.tif', 's3://earthlab-modeling-human-ignitions/tiles/y_var/Powerline_1992_1_t9.tif']\n",
      "9: time is 6.535181522369385 seconds\n",
      "['s3://earthlab-modeling-human-ignitions/tiles/y_var/Arson_1992_1_t10.tif', 's3://earthlab-modeling-human-ignitions/tiles/y_var/Railroad_1992_1_t10.tif', 's3://earthlab-modeling-human-ignitions/tiles/y_var/Powerline_1992_1_t10.tif']\n",
      "10: time is 6.493042469024658 seconds\n",
      "['s3://earthlab-modeling-human-ignitions/tiles/y_var/Arson_1992_1_t11.tif', 's3://earthlab-modeling-human-ignitions/tiles/y_var/Railroad_1992_1_t11.tif', 's3://earthlab-modeling-human-ignitions/tiles/y_var/Powerline_1992_1_t11.tif']\n",
      "11: time is 6.898963212966919 seconds\n",
      "['s3://earthlab-modeling-human-ignitions/tiles/y_var/Arson_1992_1_t12.tif', 's3://earthlab-modeling-human-ignitions/tiles/y_var/Railroad_1992_1_t12.tif', 's3://earthlab-modeling-human-ignitions/tiles/y_var/Powerline_1992_1_t12.tif']\n",
      "12: time is 6.919830322265625 seconds\n",
      "['s3://earthlab-modeling-human-ignitions/tiles/y_var/Arson_1992_1_t13.tif', 's3://earthlab-modeling-human-ignitions/tiles/y_var/Railroad_1992_1_t13.tif', 's3://earthlab-modeling-human-ignitions/tiles/y_var/Powerline_1992_1_t13.tif']\n",
      "13: time is 7.0037665367126465 seconds\n",
      "['s3://earthlab-modeling-human-ignitions/tiles/y_var/Arson_1992_1_t14.tif', 's3://earthlab-modeling-human-ignitions/tiles/y_var/Railroad_1992_1_t14.tif', 's3://earthlab-modeling-human-ignitions/tiles/y_var/Powerline_1992_1_t14.tif']\n",
      "14: time is 6.966922998428345 seconds\n",
      "['s3://earthlab-modeling-human-ignitions/tiles/y_var/Arson_1992_1_t15.tif', 's3://earthlab-modeling-human-ignitions/tiles/y_var/Railroad_1992_1_t15.tif', 's3://earthlab-modeling-human-ignitions/tiles/y_var/Powerline_1992_1_t15.tif']\n",
      "15: time is 6.768065452575684 seconds\n",
      "['s3://earthlab-modeling-human-ignitions/tiles/y_var/Arson_1992_1_t16.tif', 's3://earthlab-modeling-human-ignitions/tiles/y_var/Railroad_1992_1_t16.tif', 's3://earthlab-modeling-human-ignitions/tiles/y_var/Powerline_1992_1_t16.tif']\n",
      "16: time is 6.866902112960815 seconds\n",
      "['s3://earthlab-modeling-human-ignitions/tiles/y_var/Arson_1992_1_t17.tif', 's3://earthlab-modeling-human-ignitions/tiles/y_var/Railroad_1992_1_t17.tif', 's3://earthlab-modeling-human-ignitions/tiles/y_var/Powerline_1992_1_t17.tif']\n",
      "17: time is 6.878145456314087 seconds\n",
      "['s3://earthlab-modeling-human-ignitions/tiles/y_var/Arson_1992_1_t18.tif', 's3://earthlab-modeling-human-ignitions/tiles/y_var/Railroad_1992_1_t18.tif', 's3://earthlab-modeling-human-ignitions/tiles/y_var/Powerline_1992_1_t18.tif']\n",
      "18: time is 6.883172988891602 seconds\n",
      "['s3://earthlab-modeling-human-ignitions/tiles/y_var/Arson_1992_1_t19.tif', 's3://earthlab-modeling-human-ignitions/tiles/y_var/Railroad_1992_1_t19.tif', 's3://earthlab-modeling-human-ignitions/tiles/y_var/Powerline_1992_1_t19.tif']\n",
      "19: time is 6.886001825332642 seconds\n",
      "['s3://earthlab-modeling-human-ignitions/tiles/y_var/Arson_1992_1_t20.tif', 's3://earthlab-modeling-human-ignitions/tiles/y_var/Railroad_1992_1_t20.tif', 's3://earthlab-modeling-human-ignitions/tiles/y_var/Powerline_1992_1_t20.tif']\n",
      "20: time is 6.885308027267456 seconds\n",
      "['s3://earthlab-modeling-human-ignitions/tiles/y_var/Arson_1992_1_t21.tif', 's3://earthlab-modeling-human-ignitions/tiles/y_var/Railroad_1992_1_t21.tif', 's3://earthlab-modeling-human-ignitions/tiles/y_var/Powerline_1992_1_t21.tif']\n",
      "21: time is 6.878418684005737 seconds\n",
      "['s3://earthlab-modeling-human-ignitions/tiles/y_var/Arson_1992_1_t22.tif', 's3://earthlab-modeling-human-ignitions/tiles/y_var/Railroad_1992_1_t22.tif', 's3://earthlab-modeling-human-ignitions/tiles/y_var/Powerline_1992_1_t22.tif']\n",
      "22: time is 6.942696571350098 seconds\n",
      "['s3://earthlab-modeling-human-ignitions/tiles/y_var/Arson_1992_1_t23.tif', 's3://earthlab-modeling-human-ignitions/tiles/y_var/Railroad_1992_1_t23.tif', 's3://earthlab-modeling-human-ignitions/tiles/y_var/Powerline_1992_1_t23.tif']\n",
      "23: time is 7.0101234912872314 seconds\n",
      "['s3://earthlab-modeling-human-ignitions/tiles/y_var/Arson_1992_1_t24.tif', 's3://earthlab-modeling-human-ignitions/tiles/y_var/Railroad_1992_1_t24.tif', 's3://earthlab-modeling-human-ignitions/tiles/y_var/Powerline_1992_1_t24.tif']\n",
      "24: time is 7.057276725769043 seconds\n",
      "['s3://earthlab-modeling-human-ignitions/tiles/y_var/Arson_1992_1_t25.tif', 's3://earthlab-modeling-human-ignitions/tiles/y_var/Railroad_1992_1_t25.tif', 's3://earthlab-modeling-human-ignitions/tiles/y_var/Powerline_1992_1_t25.tif']\n",
      "25: time is 6.849653959274292 seconds\n",
      "['s3://earthlab-modeling-human-ignitions/tiles/y_var/Arson_1992_1_t26.tif', 's3://earthlab-modeling-human-ignitions/tiles/y_var/Railroad_1992_1_t26.tif', 's3://earthlab-modeling-human-ignitions/tiles/y_var/Powerline_1992_1_t26.tif']\n",
      "26: time is 6.881078004837036 seconds\n",
      "['s3://earthlab-modeling-human-ignitions/tiles/y_var/Arson_1992_1_t27.tif', 's3://earthlab-modeling-human-ignitions/tiles/y_var/Railroad_1992_1_t27.tif', 's3://earthlab-modeling-human-ignitions/tiles/y_var/Powerline_1992_1_t27.tif']\n",
      "27: time is 6.791738033294678 seconds\n",
      "['s3://earthlab-modeling-human-ignitions/tiles/y_var/Arson_1992_1_t28.tif', 's3://earthlab-modeling-human-ignitions/tiles/y_var/Railroad_1992_1_t28.tif', 's3://earthlab-modeling-human-ignitions/tiles/y_var/Powerline_1992_1_t28.tif']\n",
      "28: time is 6.817328214645386 seconds\n",
      "['s3://earthlab-modeling-human-ignitions/tiles/y_var/Arson_1992_1_t29.tif', 's3://earthlab-modeling-human-ignitions/tiles/y_var/Railroad_1992_1_t29.tif', 's3://earthlab-modeling-human-ignitions/tiles/y_var/Powerline_1992_1_t29.tif']\n",
      "29: time is 6.8307483196258545 seconds\n",
      "['s3://earthlab-modeling-human-ignitions/tiles/y_var/Arson_1992_1_t30.tif', 's3://earthlab-modeling-human-ignitions/tiles/y_var/Railroad_1992_1_t30.tif', 's3://earthlab-modeling-human-ignitions/tiles/y_var/Powerline_1992_1_t30.tif']\n",
      "30: time is 6.743920087814331 seconds\n",
      "['s3://earthlab-modeling-human-ignitions/tiles/y_var/Arson_1992_1_t31.tif', 's3://earthlab-modeling-human-ignitions/tiles/y_var/Railroad_1992_1_t31.tif', 's3://earthlab-modeling-human-ignitions/tiles/y_var/Powerline_1992_1_t31.tif']\n"
     ]
    },
    {
     "name": "stdout",
     "output_type": "stream",
     "text": [
      "31: time is 6.911356687545776 seconds\n",
      "['s3://earthlab-modeling-human-ignitions/tiles/y_var/Arson_1992_1_t32.tif', 's3://earthlab-modeling-human-ignitions/tiles/y_var/Railroad_1992_1_t32.tif', 's3://earthlab-modeling-human-ignitions/tiles/y_var/Powerline_1992_1_t32.tif']\n",
      "32: time is 6.803026914596558 seconds\n",
      "['s3://earthlab-modeling-human-ignitions/tiles/y_var/Arson_1992_1_t33.tif', 's3://earthlab-modeling-human-ignitions/tiles/y_var/Railroad_1992_1_t33.tif', 's3://earthlab-modeling-human-ignitions/tiles/y_var/Powerline_1992_1_t33.tif']\n",
      "33: time is 6.756707429885864 seconds\n",
      "['s3://earthlab-modeling-human-ignitions/tiles/y_var/Arson_1992_1_t34.tif', 's3://earthlab-modeling-human-ignitions/tiles/y_var/Railroad_1992_1_t34.tif', 's3://earthlab-modeling-human-ignitions/tiles/y_var/Powerline_1992_1_t34.tif']\n",
      "34: time is 6.79748010635376 seconds\n",
      "['s3://earthlab-modeling-human-ignitions/tiles/y_var/Arson_1992_1_t35.tif', 's3://earthlab-modeling-human-ignitions/tiles/y_var/Railroad_1992_1_t35.tif', 's3://earthlab-modeling-human-ignitions/tiles/y_var/Powerline_1992_1_t35.tif']\n",
      "35: time is 6.833885431289673 seconds\n",
      "['s3://earthlab-modeling-human-ignitions/tiles/y_var/Arson_1992_1_t36.tif', 's3://earthlab-modeling-human-ignitions/tiles/y_var/Railroad_1992_1_t36.tif', 's3://earthlab-modeling-human-ignitions/tiles/y_var/Powerline_1992_1_t36.tif']\n",
      "36: time is 6.876387596130371 seconds\n",
      "['s3://earthlab-modeling-human-ignitions/tiles/y_var/Arson_1992_1_t37.tif', 's3://earthlab-modeling-human-ignitions/tiles/y_var/Railroad_1992_1_t37.tif', 's3://earthlab-modeling-human-ignitions/tiles/y_var/Powerline_1992_1_t37.tif']\n",
      "37: time is 6.78314995765686 seconds\n",
      "['s3://earthlab-modeling-human-ignitions/tiles/y_var/Arson_1992_1_t38.tif', 's3://earthlab-modeling-human-ignitions/tiles/y_var/Railroad_1992_1_t38.tif', 's3://earthlab-modeling-human-ignitions/tiles/y_var/Powerline_1992_1_t38.tif']\n",
      "38: time is 7.037313222885132 seconds\n",
      "['s3://earthlab-modeling-human-ignitions/tiles/y_var/Arson_1992_1_t39.tif', 's3://earthlab-modeling-human-ignitions/tiles/y_var/Railroad_1992_1_t39.tif', 's3://earthlab-modeling-human-ignitions/tiles/y_var/Powerline_1992_1_t39.tif']\n",
      "39: time is 7.098263502120972 seconds\n",
      "['s3://earthlab-modeling-human-ignitions/tiles/y_var/Arson_1992_1_t40.tif', 's3://earthlab-modeling-human-ignitions/tiles/y_var/Railroad_1992_1_t40.tif', 's3://earthlab-modeling-human-ignitions/tiles/y_var/Powerline_1992_1_t40.tif']\n",
      "40: time is 7.052582025527954 seconds\n",
      "['s3://earthlab-modeling-human-ignitions/tiles/y_var/Arson_1992_1_t41.tif', 's3://earthlab-modeling-human-ignitions/tiles/y_var/Railroad_1992_1_t41.tif', 's3://earthlab-modeling-human-ignitions/tiles/y_var/Powerline_1992_1_t41.tif']\n",
      "41: time is 6.982639312744141 seconds\n",
      "['s3://earthlab-modeling-human-ignitions/tiles/y_var/Arson_1992_1_t42.tif', 's3://earthlab-modeling-human-ignitions/tiles/y_var/Railroad_1992_1_t42.tif', 's3://earthlab-modeling-human-ignitions/tiles/y_var/Powerline_1992_1_t42.tif']\n",
      "42: time is 6.904896020889282 seconds\n",
      "['s3://earthlab-modeling-human-ignitions/tiles/y_var/Arson_1992_1_t43.tif', 's3://earthlab-modeling-human-ignitions/tiles/y_var/Railroad_1992_1_t43.tif', 's3://earthlab-modeling-human-ignitions/tiles/y_var/Powerline_1992_1_t43.tif']\n",
      "43: time is 6.929080247879028 seconds\n",
      "['s3://earthlab-modeling-human-ignitions/tiles/y_var/Arson_1992_1_t44.tif', 's3://earthlab-modeling-human-ignitions/tiles/y_var/Railroad_1992_1_t44.tif', 's3://earthlab-modeling-human-ignitions/tiles/y_var/Powerline_1992_1_t44.tif']\n",
      "44: time is 6.886793375015259 seconds\n",
      "['s3://earthlab-modeling-human-ignitions/tiles/y_var/Arson_1992_1_t45.tif', 's3://earthlab-modeling-human-ignitions/tiles/y_var/Railroad_1992_1_t45.tif', 's3://earthlab-modeling-human-ignitions/tiles/y_var/Powerline_1992_1_t45.tif']\n",
      "45: time is 6.818704128265381 seconds\n",
      "['s3://earthlab-modeling-human-ignitions/tiles/y_var/Arson_1992_1_t46.tif', 's3://earthlab-modeling-human-ignitions/tiles/y_var/Railroad_1992_1_t46.tif', 's3://earthlab-modeling-human-ignitions/tiles/y_var/Powerline_1992_1_t46.tif']\n",
      "46: time is 6.914072036743164 seconds\n",
      "['s3://earthlab-modeling-human-ignitions/tiles/y_var/Arson_1992_1_t47.tif', 's3://earthlab-modeling-human-ignitions/tiles/y_var/Railroad_1992_1_t47.tif', 's3://earthlab-modeling-human-ignitions/tiles/y_var/Powerline_1992_1_t47.tif']\n",
      "47: time is 6.894569635391235 seconds\n",
      "['s3://earthlab-modeling-human-ignitions/tiles/y_var/Arson_1992_1_t48.tif', 's3://earthlab-modeling-human-ignitions/tiles/y_var/Railroad_1992_1_t48.tif', 's3://earthlab-modeling-human-ignitions/tiles/y_var/Powerline_1992_1_t48.tif']\n",
      "48: time is 6.846471071243286 seconds\n",
      "['s3://earthlab-modeling-human-ignitions/tiles/y_var/Arson_1992_1_t49.tif', 's3://earthlab-modeling-human-ignitions/tiles/y_var/Railroad_1992_1_t49.tif', 's3://earthlab-modeling-human-ignitions/tiles/y_var/Powerline_1992_1_t49.tif']\n",
      "49: time is 6.94959020614624 seconds\n",
      "['s3://earthlab-modeling-human-ignitions/tiles/y_var/Arson_1992_1_t50.tif', 's3://earthlab-modeling-human-ignitions/tiles/y_var/Railroad_1992_1_t50.tif', 's3://earthlab-modeling-human-ignitions/tiles/y_var/Powerline_1992_1_t50.tif']\n",
      "50: time is 6.895084857940674 seconds\n",
      "['s3://earthlab-modeling-human-ignitions/tiles/y_var/Arson_1992_1_t51.tif', 's3://earthlab-modeling-human-ignitions/tiles/y_var/Railroad_1992_1_t51.tif', 's3://earthlab-modeling-human-ignitions/tiles/y_var/Powerline_1992_1_t51.tif']\n",
      "51: time is 6.977222442626953 seconds\n",
      "['s3://earthlab-modeling-human-ignitions/tiles/y_var/Arson_1992_1_t52.tif', 's3://earthlab-modeling-human-ignitions/tiles/y_var/Railroad_1992_1_t52.tif', 's3://earthlab-modeling-human-ignitions/tiles/y_var/Powerline_1992_1_t52.tif']\n",
      "52: time is 7.0429847240448 seconds\n",
      "['s3://earthlab-modeling-human-ignitions/tiles/y_var/Arson_1992_1_t53.tif', 's3://earthlab-modeling-human-ignitions/tiles/y_var/Railroad_1992_1_t53.tif', 's3://earthlab-modeling-human-ignitions/tiles/y_var/Powerline_1992_1_t53.tif']\n",
      "53: time is 6.8927295207977295 seconds\n",
      "['s3://earthlab-modeling-human-ignitions/tiles/y_var/Arson_1992_1_t54.tif', 's3://earthlab-modeling-human-ignitions/tiles/y_var/Railroad_1992_1_t54.tif', 's3://earthlab-modeling-human-ignitions/tiles/y_var/Powerline_1992_1_t54.tif']\n",
      "54: time is 7.001401662826538 seconds\n",
      "['s3://earthlab-modeling-human-ignitions/tiles/y_var/Arson_1992_1_t55.tif', 's3://earthlab-modeling-human-ignitions/tiles/y_var/Railroad_1992_1_t55.tif', 's3://earthlab-modeling-human-ignitions/tiles/y_var/Powerline_1992_1_t55.tif']\n",
      "55: time is 7.055214166641235 seconds\n",
      "['s3://earthlab-modeling-human-ignitions/tiles/y_var/Arson_1992_1_t56.tif', 's3://earthlab-modeling-human-ignitions/tiles/y_var/Railroad_1992_1_t56.tif', 's3://earthlab-modeling-human-ignitions/tiles/y_var/Powerline_1992_1_t56.tif']\n",
      "56: time is 6.99977707862854 seconds\n",
      "['s3://earthlab-modeling-human-ignitions/tiles/y_var/Arson_1992_1_t57.tif', 's3://earthlab-modeling-human-ignitions/tiles/y_var/Railroad_1992_1_t57.tif', 's3://earthlab-modeling-human-ignitions/tiles/y_var/Powerline_1992_1_t57.tif']\n",
      "57: time is 6.946997165679932 seconds\n",
      "['s3://earthlab-modeling-human-ignitions/tiles/y_var/Arson_1992_1_t58.tif', 's3://earthlab-modeling-human-ignitions/tiles/y_var/Railroad_1992_1_t58.tif', 's3://earthlab-modeling-human-ignitions/tiles/y_var/Powerline_1992_1_t58.tif']\n",
      "58: time is 6.97634220123291 seconds\n",
      "['s3://earthlab-modeling-human-ignitions/tiles/y_var/Arson_1992_1_t59.tif', 's3://earthlab-modeling-human-ignitions/tiles/y_var/Railroad_1992_1_t59.tif', 's3://earthlab-modeling-human-ignitions/tiles/y_var/Powerline_1992_1_t59.tif']\n",
      "59: time is 6.92812705039978 seconds\n",
      "['s3://earthlab-modeling-human-ignitions/tiles/y_var/Arson_1992_1_t60.tif', 's3://earthlab-modeling-human-ignitions/tiles/y_var/Railroad_1992_1_t60.tif', 's3://earthlab-modeling-human-ignitions/tiles/y_var/Powerline_1992_1_t60.tif']\n",
      "60: time is 6.919174909591675 seconds\n",
      "['s3://earthlab-modeling-human-ignitions/tiles/y_var/Arson_1992_1_t61.tif', 's3://earthlab-modeling-human-ignitions/tiles/y_var/Railroad_1992_1_t61.tif', 's3://earthlab-modeling-human-ignitions/tiles/y_var/Powerline_1992_1_t61.tif']\n",
      "61: time is 6.933807611465454 seconds\n",
      "['s3://earthlab-modeling-human-ignitions/tiles/y_var/Arson_1992_1_t62.tif', 's3://earthlab-modeling-human-ignitions/tiles/y_var/Railroad_1992_1_t62.tif', 's3://earthlab-modeling-human-ignitions/tiles/y_var/Powerline_1992_1_t62.tif']\n"
     ]
    },
    {
     "name": "stdout",
     "output_type": "stream",
     "text": [
      "62: time is 6.841642618179321 seconds\n",
      "['s3://earthlab-modeling-human-ignitions/tiles/y_var/Arson_1992_1_t63.tif', 's3://earthlab-modeling-human-ignitions/tiles/y_var/Railroad_1992_1_t63.tif', 's3://earthlab-modeling-human-ignitions/tiles/y_var/Powerline_1992_1_t63.tif']\n",
      "63: time is 6.809499263763428 seconds\n",
      "['s3://earthlab-modeling-human-ignitions/tiles/y_var/Arson_1992_1_t64.tif', 's3://earthlab-modeling-human-ignitions/tiles/y_var/Railroad_1992_1_t64.tif', 's3://earthlab-modeling-human-ignitions/tiles/y_var/Powerline_1992_1_t64.tif']\n",
      "64: time is 6.985856771469116 seconds\n",
      "['s3://earthlab-modeling-human-ignitions/tiles/y_var/Arson_1992_1_t65.tif', 's3://earthlab-modeling-human-ignitions/tiles/y_var/Railroad_1992_1_t65.tif', 's3://earthlab-modeling-human-ignitions/tiles/y_var/Powerline_1992_1_t65.tif']\n",
      "65: time is 7.104281902313232 seconds\n",
      "['s3://earthlab-modeling-human-ignitions/tiles/y_var/Arson_1992_1_t66.tif', 's3://earthlab-modeling-human-ignitions/tiles/y_var/Railroad_1992_1_t66.tif', 's3://earthlab-modeling-human-ignitions/tiles/y_var/Powerline_1992_1_t66.tif']\n",
      "66: time is 7.106865644454956 seconds\n",
      "['s3://earthlab-modeling-human-ignitions/tiles/y_var/Arson_1992_1_t67.tif', 's3://earthlab-modeling-human-ignitions/tiles/y_var/Railroad_1992_1_t67.tif', 's3://earthlab-modeling-human-ignitions/tiles/y_var/Powerline_1992_1_t67.tif']\n",
      "67: time is 7.009732484817505 seconds\n",
      "['s3://earthlab-modeling-human-ignitions/tiles/y_var/Arson_1992_1_t68.tif', 's3://earthlab-modeling-human-ignitions/tiles/y_var/Railroad_1992_1_t68.tif', 's3://earthlab-modeling-human-ignitions/tiles/y_var/Powerline_1992_1_t68.tif']\n",
      "68: time is 7.055400609970093 seconds\n",
      "['s3://earthlab-modeling-human-ignitions/tiles/y_var/Arson_1992_1_t69.tif', 's3://earthlab-modeling-human-ignitions/tiles/y_var/Railroad_1992_1_t69.tif', 's3://earthlab-modeling-human-ignitions/tiles/y_var/Powerline_1992_1_t69.tif']\n",
      "69: time is 7.04604434967041 seconds\n",
      "['s3://earthlab-modeling-human-ignitions/tiles/y_var/Arson_1992_1_t70.tif', 's3://earthlab-modeling-human-ignitions/tiles/y_var/Railroad_1992_1_t70.tif', 's3://earthlab-modeling-human-ignitions/tiles/y_var/Powerline_1992_1_t70.tif']\n",
      "70: time is 7.0140886306762695 seconds\n",
      "['s3://earthlab-modeling-human-ignitions/tiles/y_var/Arson_1992_1_t71.tif', 's3://earthlab-modeling-human-ignitions/tiles/y_var/Railroad_1992_1_t71.tif', 's3://earthlab-modeling-human-ignitions/tiles/y_var/Powerline_1992_1_t71.tif']\n",
      "71: time is 8.288761615753174 seconds\n",
      "['s3://earthlab-modeling-human-ignitions/tiles/y_var/Arson_1992_1_t72.tif', 's3://earthlab-modeling-human-ignitions/tiles/y_var/Railroad_1992_1_t72.tif', 's3://earthlab-modeling-human-ignitions/tiles/y_var/Powerline_1992_1_t72.tif']\n",
      "72: time is 7.107302665710449 seconds\n",
      "['s3://earthlab-modeling-human-ignitions/tiles/y_var/Arson_1992_1_t73.tif', 's3://earthlab-modeling-human-ignitions/tiles/y_var/Railroad_1992_1_t73.tif', 's3://earthlab-modeling-human-ignitions/tiles/y_var/Powerline_1992_1_t73.tif']\n",
      "73: time is 7.130796909332275 seconds\n",
      "['s3://earthlab-modeling-human-ignitions/tiles/y_var/Arson_1992_1_t74.tif', 's3://earthlab-modeling-human-ignitions/tiles/y_var/Railroad_1992_1_t74.tif', 's3://earthlab-modeling-human-ignitions/tiles/y_var/Powerline_1992_1_t74.tif']\n",
      "74: time is 7.684713125228882 seconds\n",
      "['s3://earthlab-modeling-human-ignitions/tiles/y_var/Arson_1992_1_t75.tif', 's3://earthlab-modeling-human-ignitions/tiles/y_var/Railroad_1992_1_t75.tif', 's3://earthlab-modeling-human-ignitions/tiles/y_var/Powerline_1992_1_t75.tif']\n",
      "75: time is 6.935800552368164 seconds\n",
      "['s3://earthlab-modeling-human-ignitions/tiles/y_var/Arson_1992_1_t76.tif', 's3://earthlab-modeling-human-ignitions/tiles/y_var/Railroad_1992_1_t76.tif', 's3://earthlab-modeling-human-ignitions/tiles/y_var/Powerline_1992_1_t76.tif']\n",
      "76: time is 7.006532907485962 seconds\n",
      "['s3://earthlab-modeling-human-ignitions/tiles/y_var/Arson_1992_1_t77.tif', 's3://earthlab-modeling-human-ignitions/tiles/y_var/Railroad_1992_1_t77.tif', 's3://earthlab-modeling-human-ignitions/tiles/y_var/Powerline_1992_1_t77.tif']\n",
      "77: time is 6.958357334136963 seconds\n",
      "['s3://earthlab-modeling-human-ignitions/tiles/y_var/Arson_1992_1_t78.tif', 's3://earthlab-modeling-human-ignitions/tiles/y_var/Railroad_1992_1_t78.tif', 's3://earthlab-modeling-human-ignitions/tiles/y_var/Powerline_1992_1_t78.tif']\n",
      "78: time is 6.974579811096191 seconds\n",
      "['s3://earthlab-modeling-human-ignitions/tiles/y_var/Arson_1992_1_t79.tif', 's3://earthlab-modeling-human-ignitions/tiles/y_var/Railroad_1992_1_t79.tif', 's3://earthlab-modeling-human-ignitions/tiles/y_var/Powerline_1992_1_t79.tif']\n",
      "79: time is 7.1842732429504395 seconds\n",
      "['s3://earthlab-modeling-human-ignitions/tiles/y_var/Arson_1992_1_t80.tif', 's3://earthlab-modeling-human-ignitions/tiles/y_var/Railroad_1992_1_t80.tif', 's3://earthlab-modeling-human-ignitions/tiles/y_var/Powerline_1992_1_t80.tif']\n",
      "80: time is 7.068034648895264 seconds\n",
      "['s3://earthlab-modeling-human-ignitions/tiles/y_var/Arson_1992_1_t81.tif', 's3://earthlab-modeling-human-ignitions/tiles/y_var/Railroad_1992_1_t81.tif', 's3://earthlab-modeling-human-ignitions/tiles/y_var/Powerline_1992_1_t81.tif']\n",
      "81: time is 7.351278781890869 seconds\n",
      "['s3://earthlab-modeling-human-ignitions/tiles/y_var/Arson_1992_1_t82.tif', 's3://earthlab-modeling-human-ignitions/tiles/y_var/Railroad_1992_1_t82.tif', 's3://earthlab-modeling-human-ignitions/tiles/y_var/Powerline_1992_1_t82.tif']\n",
      "82: time is 7.39925479888916 seconds\n",
      "['s3://earthlab-modeling-human-ignitions/tiles/y_var/Arson_1992_1_t83.tif', 's3://earthlab-modeling-human-ignitions/tiles/y_var/Railroad_1992_1_t83.tif', 's3://earthlab-modeling-human-ignitions/tiles/y_var/Powerline_1992_1_t83.tif']\n",
      "83: time is 7.435506105422974 seconds\n",
      "['s3://earthlab-modeling-human-ignitions/tiles/y_var/Arson_1992_1_t84.tif', 's3://earthlab-modeling-human-ignitions/tiles/y_var/Railroad_1992_1_t84.tif', 's3://earthlab-modeling-human-ignitions/tiles/y_var/Powerline_1992_1_t84.tif']\n",
      "84: time is 7.38822078704834 seconds\n",
      "['s3://earthlab-modeling-human-ignitions/tiles/y_var/Arson_1992_1_t85.tif', 's3://earthlab-modeling-human-ignitions/tiles/y_var/Railroad_1992_1_t85.tif', 's3://earthlab-modeling-human-ignitions/tiles/y_var/Powerline_1992_1_t85.tif']\n",
      "85: time is 7.46462345123291 seconds\n",
      "['s3://earthlab-modeling-human-ignitions/tiles/y_var/Arson_1992_1_t86.tif', 's3://earthlab-modeling-human-ignitions/tiles/y_var/Railroad_1992_1_t86.tif', 's3://earthlab-modeling-human-ignitions/tiles/y_var/Powerline_1992_1_t86.tif']\n",
      "86: time is 7.428048133850098 seconds\n",
      "['s3://earthlab-modeling-human-ignitions/tiles/y_var/Arson_1992_1_t87.tif', 's3://earthlab-modeling-human-ignitions/tiles/y_var/Railroad_1992_1_t87.tif', 's3://earthlab-modeling-human-ignitions/tiles/y_var/Powerline_1992_1_t87.tif']\n",
      "87: time is 7.4989635944366455 seconds\n",
      "['s3://earthlab-modeling-human-ignitions/tiles/y_var/Arson_1992_1_t88.tif', 's3://earthlab-modeling-human-ignitions/tiles/y_var/Railroad_1992_1_t88.tif', 's3://earthlab-modeling-human-ignitions/tiles/y_var/Powerline_1992_1_t88.tif']\n",
      "88: time is 7.32600736618042 seconds\n",
      "['s3://earthlab-modeling-human-ignitions/tiles/y_var/Arson_1992_1_t89.tif', 's3://earthlab-modeling-human-ignitions/tiles/y_var/Railroad_1992_1_t89.tif', 's3://earthlab-modeling-human-ignitions/tiles/y_var/Powerline_1992_1_t89.tif']\n",
      "89: time is 7.423363447189331 seconds\n",
      "['s3://earthlab-modeling-human-ignitions/tiles/y_var/Arson_1992_1_t90.tif', 's3://earthlab-modeling-human-ignitions/tiles/y_var/Railroad_1992_1_t90.tif', 's3://earthlab-modeling-human-ignitions/tiles/y_var/Powerline_1992_1_t90.tif']\n",
      "90: time is 6.986707925796509 seconds\n",
      "['s3://earthlab-modeling-human-ignitions/tiles/y_var/Arson_1992_1_t91.tif', 's3://earthlab-modeling-human-ignitions/tiles/y_var/Railroad_1992_1_t91.tif', 's3://earthlab-modeling-human-ignitions/tiles/y_var/Powerline_1992_1_t91.tif']\n",
      "91: time is 6.934035539627075 seconds\n",
      "['s3://earthlab-modeling-human-ignitions/tiles/y_var/Arson_1992_1_t92.tif', 's3://earthlab-modeling-human-ignitions/tiles/y_var/Railroad_1992_1_t92.tif', 's3://earthlab-modeling-human-ignitions/tiles/y_var/Powerline_1992_1_t92.tif']\n",
      "92: time is 7.495792627334595 seconds\n",
      "['s3://earthlab-modeling-human-ignitions/tiles/y_var/Arson_1992_1_t93.tif', 's3://earthlab-modeling-human-ignitions/tiles/y_var/Railroad_1992_1_t93.tif', 's3://earthlab-modeling-human-ignitions/tiles/y_var/Powerline_1992_1_t93.tif']\n"
     ]
    },
    {
     "name": "stdout",
     "output_type": "stream",
     "text": [
      "93: time is 7.473527908325195 seconds\n",
      "['s3://earthlab-modeling-human-ignitions/tiles/y_var/Arson_1992_1_t94.tif', 's3://earthlab-modeling-human-ignitions/tiles/y_var/Railroad_1992_1_t94.tif', 's3://earthlab-modeling-human-ignitions/tiles/y_var/Powerline_1992_1_t94.tif']\n",
      "94: time is 7.312894105911255 seconds\n",
      "['s3://earthlab-modeling-human-ignitions/tiles/y_var/Arson_1992_1_t95.tif', 's3://earthlab-modeling-human-ignitions/tiles/y_var/Railroad_1992_1_t95.tif', 's3://earthlab-modeling-human-ignitions/tiles/y_var/Powerline_1992_1_t95.tif']\n",
      "95: time is 7.315048694610596 seconds\n",
      "['s3://earthlab-modeling-human-ignitions/tiles/y_var/Arson_1992_1_t96.tif', 's3://earthlab-modeling-human-ignitions/tiles/y_var/Railroad_1992_1_t96.tif', 's3://earthlab-modeling-human-ignitions/tiles/y_var/Powerline_1992_1_t96.tif']\n",
      "96: time is 7.42643141746521 seconds\n",
      "['s3://earthlab-modeling-human-ignitions/tiles/y_var/Arson_1992_1_t97.tif', 's3://earthlab-modeling-human-ignitions/tiles/y_var/Railroad_1992_1_t97.tif', 's3://earthlab-modeling-human-ignitions/tiles/y_var/Powerline_1992_1_t97.tif']\n",
      "97: time is 7.312479734420776 seconds\n",
      "['s3://earthlab-modeling-human-ignitions/tiles/y_var/Arson_1992_1_t98.tif', 's3://earthlab-modeling-human-ignitions/tiles/y_var/Railroad_1992_1_t98.tif', 's3://earthlab-modeling-human-ignitions/tiles/y_var/Powerline_1992_1_t98.tif']\n",
      "98: time is 7.312340974807739 seconds\n",
      "['s3://earthlab-modeling-human-ignitions/tiles/y_var/Arson_1992_1_t99.tif', 's3://earthlab-modeling-human-ignitions/tiles/y_var/Railroad_1992_1_t99.tif', 's3://earthlab-modeling-human-ignitions/tiles/y_var/Powerline_1992_1_t99.tif']\n",
      "99: time is 7.401850700378418 seconds\n",
      "['s3://earthlab-modeling-human-ignitions/tiles/y_var/Arson_1992_1_t100.tif', 's3://earthlab-modeling-human-ignitions/tiles/y_var/Railroad_1992_1_t100.tif', 's3://earthlab-modeling-human-ignitions/tiles/y_var/Powerline_1992_1_t100.tif']\n",
      "100: time is 7.372830629348755 seconds\n"
     ]
    }
   ],
   "source": [
    "times = []\n",
    "for i in range(100):\n",
    "    t0 = time()\n",
    "    y3, x3, lm3 = test_xym_s3[i]\n",
    "    t1 = time()\n",
    "\n",
    "    print('{}: time is {} seconds'.format(i+1, t1-t0))\n",
    "    times.append(t1-t0)"
   ]
  },
  {
   "cell_type": "code",
   "execution_count": 22,
   "metadata": {},
   "outputs": [
    {
     "data": {
      "image/png": "[encoded data removed]",
      "text/plain": [
       "<Figure size 432x288 with 1 Axes>"
      ]
     },
     "metadata": {},
     "output_type": "display_data"
    }
   ],
   "source": [
    "plt.hist(times, bins=40, edgecolor='k', alpha=0.5);"
   ]
  },
  {
   "cell_type": "code",
   "execution_count": null,
   "metadata": {},
   "outputs": [],
   "source": []
  }
 ],
 "metadata": {
  "kernelspec": {
   "display_name": "Python [conda env:conda]",
   "language": "python",
   "name": "conda-env-conda-py"
  },
  "language_info": {
   "codemirror_mode": {
    "name": "ipython",
    "version": 3
   },
   "file_extension": ".py",
   "mimetype": "text/x-python",
   "name": "python",
   "nbconvert_exporter": "python",
   "pygments_lexer": "ipython3",
   "version": "3.6.5"
  }
 },
 "nbformat": 4,
 "nbformat_minor": 2
}
