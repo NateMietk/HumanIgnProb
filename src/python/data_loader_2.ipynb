{
 "cells": [
  {
   "cell_type": "code",
   "execution_count": 1,
   "metadata": {},
   "outputs": [],
   "source": [
    "import torch\n",
    "from torch.utils.data import Dataset, DataLoader\n",
    "import rasterio as rio\n",
    "from glob import glob\n",
    "import os, sys\n",
    "import itertools\n",
    "import numpy as np\n"
   ]
  },
  {
   "cell_type": "raw",
   "metadata": {},
   "source": [
    "## rename all Equipment_Use to EquipmentUse, Debris_Burning to DebrisBurning\n",
    "equipment = glob(y_var_dir + \"/{}*.tif\".format('Equipment'))\n",
    "debris = glob(y_var_dir + \"/{}*.tif\".format('Debris'))\n",
    "\n",
    "f=equipment[0]\n",
    "bname = os.path.basename(f)\n",
    "dname = os.path.dirname(f)\n",
    "\n",
    "fname_parts = bname.split('_')\n",
    "new_fname_parts = ['EquipmentUse'] + fname_parts[2:]\n",
    "new_fname = '_'.join(new_fname_parts)\n",
    "print(new_fname)\n",
    "\n",
    "# rename\n",
    "for f in equipment:\n",
    "    bname = os.path.basename(f)\n",
    "    dname = os.path.dirname(f)\n",
    "    \n",
    "    fname_parts = bname.split('_')\n",
    "    new_fname_parts = ['EquipmentUse'] + fname_parts[2:]\n",
    "    new_fname = '_'.join(new_fname_parts)\n",
    "    \n",
    "    os.rename(f, os.path.join(dname,new_fname))\n",
    "    \n",
    "# rename\n",
    "for f in debris:\n",
    "    bname = os.path.basename(f)\n",
    "    dname = os.path.dirname(f)\n",
    "    \n",
    "    fname_parts = bname.split('_')\n",
    "    new_fname_parts = ['DebrisBurning'] + fname_parts[2:]\n",
    "    new_fname = '_'.join(new_fname_parts)\n",
    "    \n",
    "    os.rename(f, os.path.join(dname,new_fname))"
   ]
  },
  {
   "cell_type": "code",
   "execution_count": 2,
   "metadata": {},
   "outputs": [
    {
     "data": {
      "text/plain": [
       "{'Arson',\n",
       " 'Campfire',\n",
       " 'Children',\n",
       " 'DebrisBurning',\n",
       " 'EquipmentUse',\n",
       " 'Fireworks',\n",
       " 'Human',\n",
       " 'Lightning',\n",
       " 'Miscellaneous',\n",
       " 'Powerline',\n",
       " 'Railroad',\n",
       " 'Smoking',\n",
       " 'Structure'}"
      ]
     },
     "execution_count": 2,
     "metadata": {},
     "output_type": "execute_result"
    }
   ],
   "source": [
    "# get y variable names\n",
    "y_var_dir = '../../../data/y_tiles/'\n",
    "y_files = glob(y_var_dir + \"/*.tif\")\n",
    "y_vars = set([os.path.basename(f).split('_')[0] for f in y_files])\n",
    "y_vars"
   ]
  },
  {
   "cell_type": "code",
   "execution_count": 6,
   "metadata": {},
   "outputs": [],
   "source": [
    "class yDatasetSingleVar(Dataset):\n",
    "    \"\"\"Dataset class for ignition types (Y var)\"\"\"\n",
    "    \n",
    "    def __init__(self, data_dir, transform=None, ig_type='Arson'):\n",
    "        \"\"\" \n",
    "        Args:\n",
    "            data_dir(string): the folder containing the image files\n",
    "            transform (callable, optional): Optional transform to  be applied to image data\n",
    "            ig_types (iterable, optional): types of ignition rasters to include \n",
    "        \"\"\"\n",
    "        assert os.path.exists(data_dir)\n",
    "        \n",
    "        self.data_dir = data_dir\n",
    "        self.transform = transform\n",
    "        self.ig_types = ig_type # should have a default...\n",
    "        self.val_months = set([os.path.basename(f).split('_')[-2] for f in y_files if int(os.path.basename(f).split('_')[-2]) <=12])\n",
    "        self.tile_nums = set([os.path.basename(f).split('_')[-1].split('.tif')[0] for f in y_files])\n",
    "        self.files = glob(data_dir + \"/*{}*.tif\".format(ig_type))\n",
    "        self.month_tile = itertools.product(self.val_months, self.tile_nums)\n",
    "        self.fi = None\n",
    "        \n",
    "        ## could also set up a set of variable names if specifying it in the constructor proves difficult\n",
    "        #y_vars = set([os.path.basename(f).split('_')[0] for f in y_files])\n",
    "        \n",
    "    \n",
    "    def __getitem__(self, idx):\n",
    "        \n",
    "        \"\"\"\n",
    "            Files are organized as <ig_type>_<year>_<month>_t<tileNumber>.tif, e.g., Arson_1992_1_t1\n",
    "            A single dataset needs to be constructed for a given ignition type, year, month, and tile number\n",
    "        \"\"\"\n",
    "        \n",
    "        fi = self.files[idx] \n",
    "        print(fi)\n",
    "        valid_thresh = -100000\n",
    "        with rio.open(fi) as src:\n",
    "            img_arr = src.read(1)\n",
    "            img_arr[img_arr<0] = 0\n",
    "            \n",
    "            ## any thing matching this condition for X vars replace with mean of valid vals\n",
    "            img_arr[img_arr <= -2.4e+38] = img_arr[img_arr > valid_thresh].mean()\n",
    "        \n",
    "        print(img_arr.shape)\n",
    "        \n",
    "        if self.transform is not None:\n",
    "            return self.transform(torch.from_numpy(img_arr))   \n",
    "        else:\n",
    "            return torch.from_numpy(img_arr)\n",
    "        \n",
    "        \n",
    "    def __len__(self):\n",
    "        return len(self.files)"
   ]
  },
  {
   "cell_type": "code",
   "execution_count": 7,
   "metadata": {},
   "outputs": [],
   "source": [
    "test_single_var = yDatasetSingleVar(y_var_dir, ig_type='Campfire') # variable is Arson by default"
   ]
  },
  {
   "cell_type": "code",
   "execution_count": 5,
   "metadata": {},
   "outputs": [
    {
     "name": "stdout",
     "output_type": "stream",
     "text": [
      "Campfire: 43201\n",
      "Children: 43203\n",
      "Railroad: 43200\n",
      "EquipmentUse: 43201\n",
      "Powerline: 43200\n",
      "Smoking: 43200\n",
      "Fireworks: 43200\n",
      "Human: 43200\n",
      "Miscellaneous: 43200\n",
      "Structure: 43200\n",
      "Lightning: 43200\n",
      "DebrisBurning: 43200\n",
      "Arson: 43200\n"
     ]
    }
   ],
   "source": [
    "for var in y_vars:\n",
    "    test_dl = yDatasetSingleVar(y_var_dir, ig_type=var)\n",
    "    print('{}: {}'.format(var, len(test_dl)))"
   ]
  },
  {
   "cell_type": "code",
   "execution_count": 8,
   "metadata": {},
   "outputs": [
    {
     "name": "stdout",
     "output_type": "stream",
     "text": [
      "../../../data/y_tiles\\EquipmentUse_1992_10_t1.tif\n",
      "../../../data/y_tiles\\Children_1992_10_t1.tif\n",
      "../../../data/y_tiles\\Campfire_1992_10_t1.tif\n",
      "../../../data/y_tiles\\Arson_1992_10_t1.tif\n"
     ]
    }
   ],
   "source": [
    "## looks like most y-vars have 43200 files, but Children, Campfire, and Equipment have more.\n",
    "## try to find out the filenames which are not like the other variables!\n",
    "equipment = glob(y_var_dir + \"/{}*.tif\".format('Equipment'))\n",
    "children = glob(y_var_dir + \"/{}*.tif\".format('Children'))\n",
    "campfire = glob(y_var_dir + \"/{}*.tif\".format('Campfire'))\n",
    "base = glob(y_var_dir + \"/{}*.tif\".format('Arson'))\n",
    "\n",
    "print(equipment[0])\n",
    "print(children[0])\n",
    "print(campfire[0])\n",
    "print(base[0])"
   ]
  },
  {
   "cell_type": "code",
   "execution_count": 9,
   "metadata": {},
   "outputs": [],
   "source": [
    "# get just the year_month_tile.tif\n",
    "equip = ['_'.join(f.split('_')[-3:]) for f in equipment]\n",
    "child = ['_'.join(f.split('_')[-3:]) for f in children]\n",
    "camp = ['_'.join(f.split('_')[-3:]) for f in campfire]\n",
    "b = ['_'.join(f.split('_')[-3:]) for f in base]"
   ]
  },
  {
   "cell_type": "code",
   "execution_count": 10,
   "metadata": {},
   "outputs": [
    {
     "name": "stdout",
     "output_type": "stream",
     "text": [
      "equipment use difference\n",
      "['tiles\\\\EquipmentUse_2013_t82.tif']\n",
      "\n",
      "children difference\n",
      "['tiles\\\\Children_2008_t4.tif' 'tiles\\\\Children_2008_t8.tif'\n",
      " 'tiles\\\\Children_2013_t1.tif']\n",
      "\n",
      "campfire difference\n",
      "['tiles\\\\Campfire_2013_t87.tif']\n"
     ]
    }
   ],
   "source": [
    "print('equipment use difference')\n",
    "print(np.setdiff1d(equip, b))\n",
    "\n",
    "print('\\nchildren difference')\n",
    "print(np.setdiff1d(child, b))\n",
    "\n",
    "print('\\ncampfire difference')\n",
    "print(np.setdiff1d(camp, b))"
   ]
  },
  {
   "cell_type": "code",
   "execution_count": null,
   "metadata": {},
   "outputs": [],
   "source": [
    "temp_list = []\n",
    "for ig_type in ['Arson', 'Campfire']:\n",
    "    files = glob(y_var_dir + \"/{}*.tif\".format(ig_type))\n",
    "    print('{}: {}'.format(ig_type, len(files)))\n",
    "    temp_list.append(files)\n",
    "    \n",
    "print(len(temp_list))"
   ]
  },
  {
   "cell_type": "code",
   "execution_count": 22,
   "metadata": {},
   "outputs": [],
   "source": [
    "class yDatasetMultiVar(Dataset):\n",
    "    \"\"\"Dataset class for ignition types (Y var)\"\"\"\n",
    "    \n",
    "    def __init__(self, data_dir, transform=None, ig_types=['Arson', 'Campfire']):\n",
    "        \"\"\" \n",
    "        Args:\n",
    "            data_dir(string): the folder containing the image files\n",
    "            transform (callable, optional): Optional transform to  be applied to image data\n",
    "            ig_types (iterable, optional): types of ignition rasters to include \n",
    "        \"\"\"\n",
    "        \n",
    "        # some sanity checks\n",
    "        assert os.path.exists(data_dir)\n",
    "        assert len(ig_types) > 1\n",
    "        val_ig_types = set([os.path.basename(f).split('_')[0] for f in glob(data_dir + '/*.tif')])\n",
    "        for v in val_ig_types:\n",
    "            assert v in list(val_ig_types)\n",
    "        \n",
    "        # initialize some attributes\n",
    "        self.data_dir = data_dir\n",
    "        self.transform = transform\n",
    "        self.ig_types = ig_types # should have a default...\n",
    "        self.val_months = set([os.path.basename(f).split('_')[-2] for f in y_files if int(os.path.basename(f).split('_')[-2]) <=12])\n",
    "        \n",
    "        # the filenaming is not consistent to get the years from the filename :(\n",
    "        #self.val_years = set([os.path.basename(f).split('_')[-3] for f in y_files if (len(os.path.basename(f).split('_')) > 3)])\n",
    "        self.val_years = list(range(1992,2016)) # 2015, since it is open-ended on the right\n",
    "        \n",
    "        self.tile_nums = set([os.path.basename(f).split('_')[-1].split('.tif')[0] for f in y_files])\n",
    "        \n",
    "        # get the files for ig_type[0]... need to assert that num_files for each ig_type is equal\n",
    "        self.files = glob(data_dir + \"/*{}*.tif\".format(ig_types[0]))\n",
    "        temp_list = []\n",
    "        for ig_type in ig_types:\n",
    "            files = glob(data_dir + \"/{}*.tif\".format(ig_type))\n",
    "            temp_list.append(files)\n",
    "        \n",
    "        # this should ensure that the file numbers are equal\n",
    "        for flist in temp_list[1:]:\n",
    "            assert len(temp_list[0]) == len(flist)        \n",
    "        \n",
    "        # create an iterable for the __getitem__ method\n",
    "        self.var_year_month_tile = list(itertools.product(self.ig_types, self.val_years, self.val_months, self.tile_nums))\n",
    "        self.year_month_tile = list(itertools.product(self.val_years, self.val_months, self.tile_nums))\n",
    "        \n",
    "    \n",
    "    def __getitem__(self, idx):\n",
    "        \n",
    "        \"\"\"\n",
    "            Files are organized as <ig_type>_<year>_<month>_t<tileNumber>.tif, e.g., Arson_1992_1_t1\n",
    "            A single dataset needs to be constructed for a given ignition type, year, month, and tile number\n",
    "        \"\"\"\n",
    "        \n",
    "        #var, year, month, tile = self.var_year_month_tile[idx]\n",
    "        year, month, tile = self.year_month_tile[idx]\n",
    "        files = [os.path.join(self.data_dir, '{}_{}_{}_{}.tif'.format(var, year, month, tile)) for var in self.ig_types]\n",
    "        arrs = []\n",
    "        \n",
    "        print(files)\n",
    "        \n",
    "        valid_thresh = -100000\n",
    "        for fi in files:\n",
    "            with rio.open(fi) as src:\n",
    "                arr = src.read(1)\n",
    "                \n",
    "                ## any thing matching this condition for X vars replace with mean of valid vals\n",
    "                arr[arr <= -2.4e+38] = arr[arr > valid_thresh].mean()\n",
    "            \n",
    "            arrs.append(arr)\n",
    "        img_arr = np.array(arrs)\n",
    "        \n",
    "        if self.transform is not None:\n",
    "            return self.transform(torch.from_numpy(img_arr))   \n",
    "        else:\n",
    "            return torch.from_numpy(img_arr)\n",
    "        \n",
    "        \n",
    "    def __len__(self):\n",
    "        return len(self.files)"
   ]
  },
  {
   "cell_type": "code",
   "execution_count": 23,
   "metadata": {},
   "outputs": [
    {
     "name": "stdout",
     "output_type": "stream",
     "text": [
      "43200\n",
      "43200\n"
     ]
    }
   ],
   "source": [
    "# Campfire: 43201\n",
    "# Children: 43203\n",
    "# Railroad: 43200\n",
    "# EquipmentUse: 43201\n",
    "# Powerline: 43200\n",
    "# Smoking: 43200\n",
    "# Fireworks: 43200\n",
    "# Human: 43200\n",
    "# Miscellaneous: 43200\n",
    "# Structure: 43200\n",
    "# Lightning: 43200\n",
    "# DebrisBurning: 43200\n",
    "# Arson: 43200\n",
    "\n",
    "test_multi_var = yDatasetMultiVar(y_var_dir, ig_types=['Arson', 'Railroad', 'Powerline']) # variable is Arson by default\n"
   ]
  },
  {
   "cell_type": "code",
   "execution_count": 24,
   "metadata": {},
   "outputs": [
    {
     "name": "stdout",
     "output_type": "stream",
     "text": [
      "['../../../data/y_tiles/Arson_1992_1_t88.tif', '../../../data/y_tiles/Railroad_1992_1_t88.tif', '../../../data/y_tiles/Powerline_1992_1_t88.tif']\n"
     ]
    },
    {
     "name": "stderr",
     "output_type": "stream",
     "text": [
      "C:\\software\\Anaconda3\\envs\\eapy_gbdx\\lib\\site-packages\\ipykernel\\__main__.py:69: RuntimeWarning: Mean of empty slice.\n",
      "C:\\software\\Anaconda3\\envs\\eapy_gbdx\\lib\\site-packages\\numpy\\core\\_methods.py:80: RuntimeWarning: invalid value encountered in true_divide\n",
      "  ret = ret.dtype.type(ret / rcount)\n"
     ]
    },
    {
     "data": {
      "text/plain": [
       "torch.Size([3, 448, 448])"
      ]
     },
     "execution_count": 24,
     "metadata": {},
     "output_type": "execute_result"
    }
   ],
   "source": [
    "test_multi_var[0].shape"
   ]
  },
  {
   "cell_type": "code",
   "execution_count": null,
   "metadata": {},
   "outputs": [],
   "source": []
  }
 ],
 "metadata": {
  "kernelspec": {
   "display_name": "Python [conda env:eapy_gbdx]",
   "language": "python",
   "name": "conda-env-eapy_gbdx-py"
  },
  "language_info": {
   "codemirror_mode": {
    "name": "ipython",
    "version": 3
   },
   "file_extension": ".py",
   "mimetype": "text/x-python",
   "name": "python",
   "nbconvert_exporter": "python",
   "pygments_lexer": "ipython3",
   "version": "3.6.4"
  }
 },
 "nbformat": 4,
 "nbformat_minor": 2
}
